{
 "cells": [
  {
   "cell_type": "code",
   "execution_count": 2,
   "id": "bb0a859d-cafd-4d9c-8a9d-1b3b4729cde6",
   "metadata": {},
   "outputs": [
    {
     "name": "stdout",
     "output_type": "stream",
     "text": [
      "Loading data from: F:\\Recovered\\Research\\BoninLab\\PainModelingProject\\calcium_imaging_data\\CAAR Testing\\CAAR part2 data\\disinhibition\\New folder (2)\\Disinhib1_7.23.20_contra3_25um_cor.tif\n",
      "Data loaded successfully: shape=(589, 1080, 1920), dtype=uint16\n",
      "Converted data to float32 with range [0.0, 0.01879911497235298]\n",
      "\n",
      "OPTIMIZED SETTINGS:\n",
      "- Reduced grid size: (4, 4) (fewer patches)\n",
      "- Increased patch size: (72, 72)\n",
      "- Limited maximum shifts: (15, 15) pixels\n",
      "- Processing in batches of 50 frames\n",
      "- Using 4 parallel processes\n",
      "\n",
      "Starting optimized non-rigid motion correction...\n",
      "Starting optimized non-rigid motion correction...\n",
      "Parameters:\n",
      " - Rigid first: True\n",
      " - Grid size: (4, 4)\n",
      " - Patch size: (72, 72)\n",
      " - Max shifts: (15, 15) pixels\n",
      " - Batch size: 50 frames\n",
      " - Parallel processes: 4\n",
      "Creating template from 100 frames...\n",
      "Applying rigid motion correction...\n",
      "Rigid correction batch 1/12 (frames 0-49)...\n"
     ]
    },
    {
     "name": "stderr",
     "output_type": "stream",
     "text": [
      "100%|██████████████████████████████████████████████████████████████████████████████████| 50/50 [00:20<00:00,  2.43it/s]\n"
     ]
    },
    {
     "name": "stdout",
     "output_type": "stream",
     "text": [
      "Rigid correction batch 2/12 (frames 50-99)...\n"
     ]
    },
    {
     "name": "stderr",
     "output_type": "stream",
     "text": [
      "100%|██████████████████████████████████████████████████████████████████████████████████| 50/50 [00:12<00:00,  4.09it/s]\n"
     ]
    },
    {
     "name": "stdout",
     "output_type": "stream",
     "text": [
      "Rigid correction batch 3/12 (frames 100-149)...\n"
     ]
    },
    {
     "name": "stderr",
     "output_type": "stream",
     "text": [
      "100%|██████████████████████████████████████████████████████████████████████████████████| 50/50 [00:10<00:00,  4.56it/s]\n"
     ]
    },
    {
     "name": "stdout",
     "output_type": "stream",
     "text": [
      "Rigid correction batch 4/12 (frames 150-199)...\n"
     ]
    },
    {
     "name": "stderr",
     "output_type": "stream",
     "text": [
      "100%|██████████████████████████████████████████████████████████████████████████████████| 50/50 [00:10<00:00,  4.89it/s]\n"
     ]
    },
    {
     "name": "stdout",
     "output_type": "stream",
     "text": [
      "Rigid correction batch 5/12 (frames 200-249)...\n"
     ]
    },
    {
     "name": "stderr",
     "output_type": "stream",
     "text": [
      "100%|██████████████████████████████████████████████████████████████████████████████████| 50/50 [00:11<00:00,  4.41it/s]\n"
     ]
    },
    {
     "name": "stdout",
     "output_type": "stream",
     "text": [
      "Rigid correction batch 6/12 (frames 250-299)...\n"
     ]
    },
    {
     "name": "stderr",
     "output_type": "stream",
     "text": [
      "100%|██████████████████████████████████████████████████████████████████████████████████| 50/50 [00:14<00:00,  3.43it/s]\n"
     ]
    },
    {
     "name": "stdout",
     "output_type": "stream",
     "text": [
      "Rigid correction batch 7/12 (frames 300-349)...\n"
     ]
    },
    {
     "name": "stderr",
     "output_type": "stream",
     "text": [
      "100%|██████████████████████████████████████████████████████████████████████████████████| 50/50 [00:09<00:00,  5.24it/s]\n"
     ]
    },
    {
     "name": "stdout",
     "output_type": "stream",
     "text": [
      "Rigid correction batch 8/12 (frames 350-399)...\n"
     ]
    },
    {
     "name": "stderr",
     "output_type": "stream",
     "text": [
      "100%|██████████████████████████████████████████████████████████████████████████████████| 50/50 [00:12<00:00,  3.95it/s]\n"
     ]
    },
    {
     "name": "stdout",
     "output_type": "stream",
     "text": [
      "Rigid correction batch 9/12 (frames 400-449)...\n"
     ]
    },
    {
     "name": "stderr",
     "output_type": "stream",
     "text": [
      "100%|██████████████████████████████████████████████████████████████████████████████████| 50/50 [00:11<00:00,  4.18it/s]\n"
     ]
    },
    {
     "name": "stdout",
     "output_type": "stream",
     "text": [
      "Rigid correction batch 10/12 (frames 450-499)...\n"
     ]
    },
    {
     "name": "stderr",
     "output_type": "stream",
     "text": [
      "100%|██████████████████████████████████████████████████████████████████████████████████| 50/50 [00:11<00:00,  4.18it/s]\n"
     ]
    },
    {
     "name": "stdout",
     "output_type": "stream",
     "text": [
      "Rigid correction batch 11/12 (frames 500-549)...\n"
     ]
    },
    {
     "name": "stderr",
     "output_type": "stream",
     "text": [
      "100%|██████████████████████████████████████████████████████████████████████████████████| 50/50 [00:12<00:00,  3.91it/s]\n"
     ]
    },
    {
     "name": "stdout",
     "output_type": "stream",
     "text": [
      "Rigid correction batch 12/12 (frames 550-588)...\n"
     ]
    },
    {
     "name": "stderr",
     "output_type": "stream",
     "text": [
      "100%|██████████████████████████████████████████████████████████████████████████████████| 39/39 [00:10<00:00,  3.67it/s]\n"
     ]
    },
    {
     "name": "stdout",
     "output_type": "stream",
     "text": [
      "Applying non-rigid motion correction...\n",
      "Non-rigid correction batch 1/12 (frames 0-49, 16 patches per frame)...\n",
      "Non-rigid correction batch 2/12 (frames 50-99, 16 patches per frame)...\n",
      "Non-rigid correction batch 3/12 (frames 100-149, 16 patches per frame)...\n",
      "Non-rigid correction batch 4/12 (frames 150-199, 16 patches per frame)...\n",
      "Non-rigid correction batch 5/12 (frames 200-249, 16 patches per frame)...\n",
      "Non-rigid correction batch 6/12 (frames 250-299, 16 patches per frame)...\n",
      "Non-rigid correction batch 7/12 (frames 300-349, 16 patches per frame)...\n",
      "Non-rigid correction batch 8/12 (frames 350-399, 16 patches per frame)...\n",
      "Non-rigid correction batch 9/12 (frames 400-449, 16 patches per frame)...\n",
      "Non-rigid correction batch 10/12 (frames 450-499, 16 patches per frame)...\n",
      "Non-rigid correction batch 11/12 (frames 500-549, 16 patches per frame)...\n",
      "Non-rigid correction batch 12/12 (frames 550-588, 16 patches per frame)...\n",
      "Motion correction completed in 1717.79 seconds\n",
      "Motion correction completed in 1717.79 seconds (0.34 frames/sec)\n",
      "\n",
      "Motion correction completed in 1818.94 seconds\n",
      "Processing speed: 0.32 frames/second\n",
      "\n",
      "Results saved to F:\\Recovered\\Research\\BoninLab\\PainModelingProject\\calcium_imaging_data\\CAAR Testing\\Normcorreoutput\n",
      "Corrected video saved as 16-bit TIFF: F:\\Recovered\\Research\\BoninLab\\PainModelingProject\\calcium_imaging_data\\CAAR Testing\\Normcorreoutput\\corrected_video.tif\n",
      "Done!\n"
     ]
    }
   ],
   "source": [
    "import numpy as np\n",
    "import matplotlib.pyplot as plt\n",
    "from tifffile import imread, imwrite\n",
    "import os\n",
    "import time\n",
    "from optimized_nonrigid_normcorre import OptimizedNonRigidCorrection, correct_motion\n",
    "\n",
    "def main():\n",
    "    \"\"\"\n",
    "    Example of how to use the NormCorre-style motion correction.\n",
    "    \"\"\"\n",
    "    # Path to your data file - update this with your file path\n",
    "    input_file_path = r\"F:\\Recovered\\Research\\BoninLab\\PainModelingProject\\calcium_imaging_data\\CAAR Testing\\CAAR part2 data\\disinhibition\\New folder (2)\\Disinhib1_7.23.20_contra3_25um_cor.tif\"\n",
    "    \n",
    "    # Set output directory\n",
    "    output_dir = r\"F:\\Recovered\\Research\\BoninLab\\PainModelingProject\\calcium_imaging_data\\CAAR Testing\\Normcorreoutput\"\n",
    "    os.makedirs(output_dir, exist_ok=True)\n",
    "    \n",
    "    print(f\"Loading data from: {input_file_path}\")\n",
    "    try:\n",
    "        # Load data\n",
    "        video_data = imread(input_file_path)\n",
    "        \n",
    "        # Alternative loading options\n",
    "        # For numpy arrays\n",
    "        # video_data = np.load(input_file_path)\n",
    "        \n",
    "        # For HDF5 files\n",
    "        # import h5py\n",
    "        # with h5py.File(input_file_path, 'r') as f:\n",
    "        #     video_data = f['dataset_name'][:]\n",
    "    except Exception as e:\n",
    "        print(f\"Error loading data: {e}\")\n",
    "        return\n",
    "    \n",
    "    # Check if data loaded properly\n",
    "    if video_data is None or video_data.size == 0:\n",
    "        print(\"Failed to load data or data is empty\")\n",
    "        return\n",
    "    \n",
    "    print(f\"Data loaded successfully: shape={video_data.shape}, dtype={video_data.dtype}\")\n",
    "    \n",
    "    # Ensure data is 3D [frames, height, width]\n",
    "    if len(video_data.shape) > 3:\n",
    "        print(f\"Data has {len(video_data.shape)} dimensions. Using first channel/volume.\")\n",
    "        # For 4D data [time, z, y, x] or [time, channel, y, x]\n",
    "        if video_data.shape[1] <= 10:  # Likely channels or z-slices\n",
    "            # Taking first channel/z-slice\n",
    "            video_data = video_data[:, 0, :, :]\n",
    "        else:\n",
    "            print(\"Cannot determine how to reshape data. Please reshape data to [frames, height, width].\")\n",
    "            return\n",
    "    \n",
    "    # Convert to float32 if needed\n",
    "    if video_data.dtype != np.float32:\n",
    "        # Normalize to 0-1 range if data is integer type\n",
    "        if np.issubdtype(video_data.dtype, np.integer):\n",
    "            video_data = video_data.astype(np.float32) / np.iinfo(video_data.dtype).max\n",
    "        else:\n",
    "            video_data = video_data.astype(np.float32)\n",
    "        print(f\"Converted data to float32 with range [{video_data.min()}, {video_data.max()}]\")\n",
    "    \n",
    "    # PERFORMANCE OPTIMIZATION SETTINGS\n",
    "    # These settings can help if the algorithm is getting stuck\n",
    "    \n",
    "    # Reduce the number of patches by using larger patches and a smaller grid\n",
    "    # This will make each patch computation faster while maintaining good coverage\n",
    "    grid_size = (4, 4)  # Fewer patches = faster processing\n",
    "    patch_size = (72, 72)  # Larger patches = more stable detection\n",
    "    \n",
    "    # Set maximum allowed correction to avoid extreme warping\n",
    "    max_shifts = (15, 15)  # Limit shifts to 15 pixels\n",
    "    \n",
    "    # Process frames in smaller batches to avoid memory issues\n",
    "    batch_size = 50  # Reduce from default 100\n",
    "    \n",
    "    # Adjust process count based on your hardware\n",
    "    n_processes = max(1, os.cpu_count() // 2)  # Use half of available CPUs\n",
    "    \n",
    "    # Reduce iterations for faster processing\n",
    "    iterations = 1  # Minimum iterations\n",
    "    \n",
    "    print(\"\\nOPTIMIZED SETTINGS:\")\n",
    "    print(f\"- Reduced grid size: {grid_size} (fewer patches)\")\n",
    "    print(f\"- Increased patch size: {patch_size}\")\n",
    "    print(f\"- Limited maximum shifts: {max_shifts} pixels\")\n",
    "    print(f\"- Processing in batches of {batch_size} frames\")\n",
    "    print(f\"- Using {n_processes} parallel processes\")\n",
    "    \n",
    "    print(\"\\nStarting optimized non-rigid motion correction...\")\n",
    "    start_time = time.time()\n",
    "    \n",
    "    corrected_video, shifts_dict, template = correct_motion(\n",
    "        video_data,\n",
    "        output_dir=output_dir,\n",
    "        template=None,\n",
    "        rigid_first=True,\n",
    "        max_shifts=max_shifts,\n",
    "        grid_size=grid_size,\n",
    "        patch_size=patch_size,\n",
    "        iterations=iterations,\n",
    "        n_processes=n_processes,\n",
    "        batch_size=batch_size,\n",
    "        save_results=True,\n",
    "        visualize=True\n",
    "    )\n",
    "    \n",
    "    elapsed_time = time.time() - start_time\n",
    "    print(f\"\\nMotion correction completed in {elapsed_time:.2f} seconds\")\n",
    "    print(f\"Processing speed: {video_data.shape[0]/elapsed_time:.2f} frames/second\")\n",
    "    \n",
    "    print(f\"\\nResults saved to {output_dir}\")\n",
    "    print(f\"Corrected video saved as 16-bit TIFF: {os.path.join(output_dir, 'corrected_video.tif')}\")\n",
    "    print(\"Done!\")\n",
    "\n",
    "if __name__ == \"__main__\":\n",
    "    main()"
   ]
  },
  {
   "cell_type": "code",
   "execution_count": null,
   "id": "eaa14384-92de-4db4-9921-c1b112e41527",
   "metadata": {},
   "outputs": [],
   "source": []
  }
 ],
 "metadata": {
  "kernelspec": {
   "display_name": "Python 3 (ipykernel)",
   "language": "python",
   "name": "python3"
  },
  "language_info": {
   "codemirror_mode": {
    "name": "ipython",
    "version": 3
   },
   "file_extension": ".py",
   "mimetype": "text/x-python",
   "name": "python",
   "nbconvert_exporter": "python",
   "pygments_lexer": "ipython3",
   "version": "3.10.8"
  }
 },
 "nbformat": 4,
 "nbformat_minor": 5
}
