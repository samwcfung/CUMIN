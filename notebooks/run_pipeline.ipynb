{
 "cells": [
  {
   "cell_type": "code",
   "execution_count": null,
   "id": "3e892df9-ee1d-4e12-b87f-968434c35ba3",
   "metadata": {},
   "outputs": [],
   "source": [
    "#pip install numpy pandas matplotlib scipy h5py tifffile opencv-python seaborn PyYAML openpyxl xlsxwriter tqdm cupy ijroi"
   ]
  },
  {
   "cell_type": "code",
   "execution_count": null,
   "id": "b0f135a4-326b-4497-8116-9afd785df109",
   "metadata": {},
   "outputs": [],
   "source": [
    "#pip install scikit-image"
   ]
  },
  {
   "cell_type": "code",
   "execution_count": null,
   "id": "82a60d48-228c-42d5-a722-1f4657b2f5f7",
   "metadata": {},
   "outputs": [],
   "source": [
    "#pip install read-roi"
   ]
  },
  {
   "cell_type": "code",
   "execution_count": null,
   "id": "30129bf5-ca56-4146-9fb6-4802c88b89df",
   "metadata": {},
   "outputs": [],
   "source": [
    "#pip install xlsxwriter openpyxl"
   ]
  },
  {
   "cell_type": "code",
   "execution_count": null,
   "id": "9ea524ba-e63f-466a-bc05-bb38c6dfe346",
   "metadata": {},
   "outputs": [],
   "source": [
    "#pip install caiman"
   ]
  },
  {
   "cell_type": "code",
   "execution_count": null,
   "id": "0c901e40-077d-46a1-8649-602634b5ba7e",
   "metadata": {},
   "outputs": [],
   "source": [
    "#pip install seaborn"
   ]
  },
  {
   "cell_type": "code",
   "execution_count": null,
   "id": "60467c5e-5e83-4713-a00c-d1ec0fc854a7",
   "metadata": {},
   "outputs": [],
   "source": [
    "#import sys\n",
    "#!{sys.executable} -m pip install cupy-cuda11x"
   ]
  },
  {
   "cell_type": "code",
   "execution_count": 1,
   "id": "1a0d99ca-77bc-4da3-9493-c481d1dc0d34",
   "metadata": {},
   "outputs": [
    {
     "name": "stderr",
     "output_type": "stream",
     "text": [
      "C:\\Users\\Admin\\anaconda3\\envs\\caiman\\lib\\site-packages\\cupy\\_environment.py:217: UserWarning: CUDA path could not be detected. Set CUDA_PATH environment variable if CuPy fails to load.\n",
      "  warnings.warn(\n"
     ]
    }
   ],
   "source": [
    "# Cell 1: Import necessary modules\n",
    "import os\n",
    "import sys\n",
    "import yaml\n",
    "import caiman\n",
    "import openpyxl\n",
    "import xlsxwriter\n",
    "import roifile\n",
    "import read_roi\n",
    "import pandas as pd\n",
    "from pathlib import Path\n",
    "\n",
    "# Add the parent directory to the path so we can import the pipeline modules\n",
    "sys.path.append('..')\n",
    "\n",
    "# Import the main pipeline function\n",
    "from pipeline import main, parse_arguments, load_config\n"
   ]
  },
  {
   "cell_type": "code",
   "execution_count": 2,
   "id": "15ea0bd9-9a8c-4c6a-a12b-2975c2e038fc",
   "metadata": {},
   "outputs": [],
   "source": [
    "# Cell 2: Set up the parameters\n",
    "class Args:\n",
    "    \"\"\"Class to simulate command line arguments\"\"\"\n",
    "    def __init__(self):\n",
    "        self.input_dir = r\"F:\\Recovered\\Research\\BoninLab\\PainModelingProject\\calcium_imaging_data\\CAAR Testing\\CAAR part2 data\\paclitaxel\"  # CHANGE THIS\n",
    "        self.output_dir = r\"F:\\Recovered\\Research\\BoninLab\\PainModelingProject\\calcium_imaging_data\\CAAR Testing\\CUMIN output\\CUMIN_43_optimized7\"   # CHANGE THIS\n",
    "        self.config = \"../config.yaml\"\n",
    "        self.mode = \"all\"  # Options: \"all\", \"preprocess\", \"extract\", \"analyze\"\n",
    "        self.max_workers = 4  # Adjust based on your CPU cores\n",
    "        self.disable_advanced = False\n"
   ]
  },
  {
   "cell_type": "code",
   "execution_count": 3,
   "id": "1d9bda78-1f7d-426c-8d6d-291605eda2b3",
   "metadata": {
    "scrolled": true
   },
   "outputs": [
    {
     "name": "stdout",
     "output_type": "stream",
     "text": [
      "Input directory: F:\\Recovered\\Research\\BoninLab\\PainModelingProject\\calcium_imaging_data\\CAAR Testing\\CAAR part2 data\\paclitaxel\n",
      "Output directory: F:\\Recovered\\Research\\BoninLab\\PainModelingProject\\calcium_imaging_data\\CAAR Testing\\CUMIN output\\CUMIN_43_optimized7\n",
      "Pipeline mode: all\n",
      "Maximum parallel workers: 4\n",
      "Advanced analysis enabled: False\n",
      "2025-03-19 15:16:27,905 - pipeline - INFO - ================================================================================\n"
     ]
    },
    {
     "name": "stderr",
     "output_type": "stream",
     "text": [
      "INFO:pipeline:================================================================================\n"
     ]
    },
    {
     "name": "stdout",
     "output_type": "stream",
     "text": [
      "2025-03-19 15:16:27,906 - pipeline - INFO - Starting fluorescence pipeline in mode: all\n"
     ]
    },
    {
     "name": "stderr",
     "output_type": "stream",
     "text": [
      "INFO:pipeline:Starting fluorescence pipeline in mode: all\n"
     ]
    },
    {
     "name": "stdout",
     "output_type": "stream",
     "text": [
      "2025-03-19 15:16:27,908 - pipeline - INFO - Input directory: F:\\Recovered\\Research\\BoninLab\\PainModelingProject\\calcium_imaging_data\\CAAR Testing\\CAAR part2 data\\paclitaxel\n"
     ]
    },
    {
     "name": "stderr",
     "output_type": "stream",
     "text": [
      "INFO:pipeline:Input directory: F:\\Recovered\\Research\\BoninLab\\PainModelingProject\\calcium_imaging_data\\CAAR Testing\\CAAR part2 data\\paclitaxel\n"
     ]
    },
    {
     "name": "stdout",
     "output_type": "stream",
     "text": [
      "2025-03-19 15:16:27,910 - pipeline - INFO - Output directory: F:\\Recovered\\Research\\BoninLab\\PainModelingProject\\calcium_imaging_data\\CAAR Testing\\CUMIN output\\CUMIN_43_optimized7\n"
     ]
    },
    {
     "name": "stderr",
     "output_type": "stream",
     "text": [
      "INFO:pipeline:Output directory: F:\\Recovered\\Research\\BoninLab\\PainModelingProject\\calcium_imaging_data\\CAAR Testing\\CUMIN output\\CUMIN_43_optimized7\n"
     ]
    },
    {
     "name": "stdout",
     "output_type": "stream",
     "text": [
      "2025-03-19 15:16:27,912 - pipeline - INFO - Configuration file: ../config.yaml\n"
     ]
    },
    {
     "name": "stderr",
     "output_type": "stream",
     "text": [
      "INFO:pipeline:Configuration file: ../config.yaml\n"
     ]
    },
    {
     "name": "stdout",
     "output_type": "stream",
     "text": [
      "2025-03-19 15:16:27,916 - pipeline - INFO - ================================================================================\n"
     ]
    },
    {
     "name": "stderr",
     "output_type": "stream",
     "text": [
      "INFO:pipeline:================================================================================\n"
     ]
    },
    {
     "name": "stdout",
     "output_type": "stream",
     "text": [
      "2025-03-19 15:16:27,917 - pipeline - INFO - Matching .tif and .zip files\n"
     ]
    },
    {
     "name": "stderr",
     "output_type": "stream",
     "text": [
      "INFO:pipeline:Matching .tif and .zip files\n"
     ]
    },
    {
     "name": "stdout",
     "output_type": "stream",
     "text": [
      "2025-03-19 15:16:27,925 - pipeline - INFO - Found 6 .tif files and 6 .zip files\n"
     ]
    },
    {
     "name": "stderr",
     "output_type": "stream",
     "text": [
      "INFO:pipeline:Found 6 .tif files and 6 .zip files\n",
      "DEBUG:pipeline:Matched Paclitaxel1_9.27.23_ipsi1_0um_Cor -> RoiSet_Paclitaxel1_9.27.23_ipsi1_0um_Cor\n",
      "DEBUG:pipeline:Matched paclitaxel1_9.27.23_ipsi1_10um_Cor -> RoiSet_Paclitaxel1_9.27.23_ipsi1_10um_Cor\n",
      "DEBUG:pipeline:Matched Paclitaxel6_8.23.19_contra1_0um_cor -> RoiSet_Paclitaxel6_8.23.19_contra1_0um_cor\n",
      "DEBUG:pipeline:Matched Paclitaxel6_8.23.19_contra1_10um_cor -> RoiSet_Paclitaxel6_8.23.19_contra1_10um_cor\n",
      "DEBUG:pipeline:Matched Paclitaxel6_8.23.19_contra1_25um_cor -> RoiSet_Paclitaxel6_8.23.19_contra1_25um_cor\n",
      "DEBUG:pipeline:Matched Paclitaxel1_9.27.23_ipsi1_25um_Cor -> RoiSet_Paclitaxel1_9.27.23_ipsi1_25um_Cor\n"
     ]
    },
    {
     "name": "stdout",
     "output_type": "stream",
     "text": [
      "2025-03-19 15:16:27,935 - pipeline - INFO - Successfully matched 6 file pairs\n"
     ]
    },
    {
     "name": "stderr",
     "output_type": "stream",
     "text": [
      "INFO:pipeline:Successfully matched 6 file pairs\n"
     ]
    },
    {
     "name": "stdout",
     "output_type": "stream",
     "text": [
      "2025-03-19 15:16:27,938 - pipeline - INFO - Found 6 matched file pairs\n"
     ]
    },
    {
     "name": "stderr",
     "output_type": "stream",
     "text": [
      "INFO:pipeline:Found 6 matched file pairs\n",
      "Processing slices:   0%|                                                                                | 0/6 [00:00<?, ?it/s]"
     ]
    },
    {
     "name": "stdout",
     "output_type": "stream",
     "text": [
      "2025-03-19 15:26:28,050 - pipeline - INFO - Completed processing Paclitaxel6_8.23.19_contra1_0um_cor\n"
     ]
    },
    {
     "name": "stderr",
     "output_type": "stream",
     "text": [
      "INFO:pipeline:Completed processing Paclitaxel6_8.23.19_contra1_0um_cor\n",
      "Processing slices:  17%|███████████▊                                                           | 1/6 [10:00<50:00, 600.12s/it]"
     ]
    },
    {
     "name": "stdout",
     "output_type": "stream",
     "text": [
      "2025-03-19 15:29:14,348 - pipeline - INFO - Completed processing Paclitaxel6_8.23.19_contra1_10um_cor\n"
     ]
    },
    {
     "name": "stderr",
     "output_type": "stream",
     "text": [
      "INFO:pipeline:Completed processing Paclitaxel6_8.23.19_contra1_10um_cor\n",
      "Processing slices:  33%|███████████████████████▋                                               | 2/6 [12:46<23:00, 345.01s/it]"
     ]
    },
    {
     "name": "stdout",
     "output_type": "stream",
     "text": [
      "2025-03-19 15:35:12,688 - pipeline - INFO - Completed processing Paclitaxel1_9.27.23_ipsi1_0um_Cor\n"
     ]
    },
    {
     "name": "stderr",
     "output_type": "stream",
     "text": [
      "INFO:pipeline:Completed processing Paclitaxel1_9.27.23_ipsi1_0um_Cor\n",
      "Processing slices:  50%|███████████████████████████████████▌                                   | 3/6 [18:44<17:33, 351.03s/it]"
     ]
    },
    {
     "name": "stdout",
     "output_type": "stream",
     "text": [
      "2025-03-19 15:35:38,880 - pipeline - INFO - Completed processing paclitaxel1_9.27.23_ipsi1_10um_Cor\n"
     ]
    },
    {
     "name": "stderr",
     "output_type": "stream",
     "text": [
      "INFO:pipeline:Completed processing paclitaxel1_9.27.23_ipsi1_10um_Cor\n",
      "Processing slices:  67%|███████████████████████████████████████████████▎                       | 4/6 [19:10<07:25, 222.76s/it]"
     ]
    },
    {
     "name": "stdout",
     "output_type": "stream",
     "text": [
      "2025-03-19 15:36:03,702 - pipeline - INFO - Completed processing Paclitaxel6_8.23.19_contra1_25um_cor\n"
     ]
    },
    {
     "name": "stderr",
     "output_type": "stream",
     "text": [
      "INFO:pipeline:Completed processing Paclitaxel6_8.23.19_contra1_25um_cor\n",
      "Processing slices:  83%|███████████████████████████████████████████████████████████▏           | 5/6 [19:35<02:31, 151.38s/it]"
     ]
    },
    {
     "name": "stdout",
     "output_type": "stream",
     "text": [
      "2025-03-19 15:36:30,773 - pipeline - INFO - Completed processing Paclitaxel1_9.27.23_ipsi1_25um_Cor\n"
     ]
    },
    {
     "name": "stderr",
     "output_type": "stream",
     "text": [
      "INFO:pipeline:Completed processing Paclitaxel1_9.27.23_ipsi1_25um_Cor\n",
      "Processing slices: 100%|███████████████████████████████████████████████████████████████████████| 6/6 [20:02<00:00, 200.46s/it]\n"
     ]
    },
    {
     "name": "stdout",
     "output_type": "stream",
     "text": [
      "2025-03-19 15:36:32,297 - pipeline - INFO - Generating mouse-level summaries\n"
     ]
    },
    {
     "name": "stderr",
     "output_type": "stream",
     "text": [
      "INFO:pipeline:Generating mouse-level summaries\n"
     ]
    },
    {
     "name": "stdout",
     "output_type": "stream",
     "text": [
      "2025-03-19 15:36:32,302 - pipeline - INFO - Creating summary for mouse Paclitaxel6\n"
     ]
    },
    {
     "name": "stderr",
     "output_type": "stream",
     "text": [
      "INFO:pipeline:Creating summary for mouse Paclitaxel6\n"
     ]
    },
    {
     "name": "stdout",
     "output_type": "stream",
     "text": [
      "2025-03-19 15:36:34,018 - pipeline - INFO - Saved mouse summary to F:\\Recovered\\Research\\BoninLab\\PainModelingProject\\calcium_imaging_data\\CAAR Testing\\CUMIN output\\CUMIN_43_optimized7\\Paclitaxel6_summary.xlsx\n"
     ]
    },
    {
     "name": "stderr",
     "output_type": "stream",
     "text": [
      "INFO:pipeline:Saved mouse summary to F:\\Recovered\\Research\\BoninLab\\PainModelingProject\\calcium_imaging_data\\CAAR Testing\\CUMIN output\\CUMIN_43_optimized7\\Paclitaxel6_summary.xlsx\n"
     ]
    },
    {
     "name": "stdout",
     "output_type": "stream",
     "text": [
      "2025-03-19 15:36:34,020 - pipeline - INFO - Creating summary for mouse Paclitaxel1\n"
     ]
    },
    {
     "name": "stderr",
     "output_type": "stream",
     "text": [
      "INFO:pipeline:Creating summary for mouse Paclitaxel1\n"
     ]
    },
    {
     "name": "stdout",
     "output_type": "stream",
     "text": [
      "2025-03-19 15:36:34,232 - pipeline - INFO - Saved mouse summary to F:\\Recovered\\Research\\BoninLab\\PainModelingProject\\calcium_imaging_data\\CAAR Testing\\CUMIN output\\CUMIN_43_optimized7\\Paclitaxel1_summary.xlsx\n"
     ]
    },
    {
     "name": "stderr",
     "output_type": "stream",
     "text": [
      "INFO:pipeline:Saved mouse summary to F:\\Recovered\\Research\\BoninLab\\PainModelingProject\\calcium_imaging_data\\CAAR Testing\\CUMIN output\\CUMIN_43_optimized7\\Paclitaxel1_summary.xlsx\n"
     ]
    },
    {
     "name": "stdout",
     "output_type": "stream",
     "text": [
      "2025-03-19 15:36:34,233 - pipeline - INFO - Creating summary for mouse paclitaxel1\n"
     ]
    },
    {
     "name": "stderr",
     "output_type": "stream",
     "text": [
      "INFO:pipeline:Creating summary for mouse paclitaxel1\n"
     ]
    },
    {
     "name": "stdout",
     "output_type": "stream",
     "text": [
      "2025-03-19 15:36:34,357 - pipeline - INFO - Saved mouse summary to F:\\Recovered\\Research\\BoninLab\\PainModelingProject\\calcium_imaging_data\\CAAR Testing\\CUMIN output\\CUMIN_43_optimized7\\paclitaxel1_summary.xlsx\n"
     ]
    },
    {
     "name": "stderr",
     "output_type": "stream",
     "text": [
      "INFO:pipeline:Saved mouse summary to F:\\Recovered\\Research\\BoninLab\\PainModelingProject\\calcium_imaging_data\\CAAR Testing\\CUMIN output\\CUMIN_43_optimized7\\paclitaxel1_summary.xlsx\n"
     ]
    },
    {
     "name": "stdout",
     "output_type": "stream",
     "text": [
      "2025-03-19 15:36:34,412 - pipeline - INFO - Pipeline completed in 1206.44 seconds\n"
     ]
    },
    {
     "name": "stderr",
     "output_type": "stream",
     "text": [
      "INFO:pipeline:Pipeline completed in 1206.44 seconds\n"
     ]
    },
    {
     "name": "stdout",
     "output_type": "stream",
     "text": [
      "2025-03-19 15:36:34,414 - pipeline - INFO - Processed 6 slices:\n"
     ]
    },
    {
     "name": "stderr",
     "output_type": "stream",
     "text": [
      "INFO:pipeline:Processed 6 slices:\n"
     ]
    },
    {
     "name": "stdout",
     "output_type": "stream",
     "text": [
      "2025-03-19 15:36:34,415 - pipeline - INFO -   - Successful: 6\n"
     ]
    },
    {
     "name": "stderr",
     "output_type": "stream",
     "text": [
      "INFO:pipeline:  - Successful: 6\n"
     ]
    },
    {
     "name": "stdout",
     "output_type": "stream",
     "text": [
      "2025-03-19 15:36:34,418 - pipeline - INFO -   - Failed: 0\n"
     ]
    },
    {
     "name": "stderr",
     "output_type": "stream",
     "text": [
      "INFO:pipeline:  - Failed: 0\n"
     ]
    },
    {
     "name": "stdout",
     "output_type": "stream",
     "text": [
      "2025-03-19 15:36:34,420 - pipeline - INFO - Summary saved to F:\\Recovered\\Research\\BoninLab\\PainModelingProject\\calcium_imaging_data\\CAAR Testing\\CUMIN output\\CUMIN_43_optimized7\\pipeline_summary.json\n"
     ]
    },
    {
     "name": "stderr",
     "output_type": "stream",
     "text": [
      "INFO:pipeline:Summary saved to F:\\Recovered\\Research\\BoninLab\\PainModelingProject\\calcium_imaging_data\\CAAR Testing\\CUMIN output\\CUMIN_43_optimized7\\pipeline_summary.json\n"
     ]
    }
   ],
   "source": [
    "# Cell 3: Load configuration and run the pipeline\n",
    "# Create arguments\n",
    "args = Args()\n",
    "\n",
    "# Make sure output directory exists\n",
    "os.makedirs(args.output_dir, exist_ok=True)\n",
    "\n",
    "# Load config\n",
    "config = load_config(args.config, args)\n",
    "\n",
    "# Print summary of what will be processed\n",
    "print(f\"Input directory: {args.input_dir}\")\n",
    "print(f\"Output directory: {args.output_dir}\")\n",
    "print(f\"Pipeline mode: {args.mode}\")\n",
    "print(f\"Maximum parallel workers: {args.max_workers}\")\n",
    "print(f\"Advanced analysis enabled: {config.get('advanced_analysis', {}).get('enabled', False)}\")\n",
    "\n",
    "# Run the pipeline\n",
    "# This modifies the main function slightly to accept our args object directly\n",
    "def run_pipeline(args):\n",
    "    # Store the original sys.argv\n",
    "    original_argv = sys.argv\n",
    "    \n",
    "    # Mock the command line arguments\n",
    "    sys.argv = ['pipeline.py', \n",
    "                '--input_dir', args.input_dir,\n",
    "                '--output_dir', args.output_dir,\n",
    "                '--config', args.config,\n",
    "                '--mode', args.mode,\n",
    "                '--max_workers', str(args.max_workers)]\n",
    "    \n",
    "    if args.disable_advanced:\n",
    "        sys.argv.append('--disable_advanced')\n",
    "    \n",
    "    try:\n",
    "        # Run the main function\n",
    "        main()\n",
    "    finally:\n",
    "        # Restore the original sys.argv\n",
    "        sys.argv = original_argv\n",
    "\n",
    "# Run the pipeline with our arguments\n",
    "run_pipeline(args)"
   ]
  },
  {
   "cell_type": "code",
   "execution_count": null,
   "id": "b9ebe6d0-d0bc-4071-8696-284146682bbe",
   "metadata": {},
   "outputs": [],
   "source": [
    "# Load and visualize results\n",
    "import h5py\n",
    "import matplotlib.pyplot as plt\n",
    "import pandas as pd\n",
    "\n",
    "# Example: Load and visualize traces from a slice\n",
    "slice_name = \"Mouse123_20220515_CFA_Ipsi1_0um\"  # Change to your actual slice name\n",
    "traces_file = os.path.join(args.output_dir, slice_name, f\"{slice_name}_traces.h5\")\n",
    "\n",
    "with h5py.File(traces_file, 'r') as f:\n",
    "    traces = f['bg_corrected_traces'][:]\n",
    "    \n",
    "# Plot first 5 ROI traces\n",
    "plt.figure(figsize=(14, 10))\n",
    "for i in range(min(5, traces.shape[0])):\n",
    "    plt.plot(traces[i], label=f\"ROI {i+1}\")\n",
    "plt.legend()\n",
    "plt.title(\"Sample ROI Fluorescence Traces\")\n",
    "plt.xlabel(\"Frame\")\n",
    "plt.ylabel(\"Fluorescence (corrected)\")\n",
    "plt.grid(True, alpha=0.3)\n",
    "plt.show()\n",
    "\n",
    "# Example: Load metrics and examine statistics\n",
    "metrics_file = os.path.join(args.output_dir, slice_name, f\"{slice_name}_metrics.xlsx\")\n",
    "metrics_df = pd.read_excel(metrics_file)\n",
    "\n",
    "# Show summary statistics\n",
    "metrics_df.describe()"
   ]
  },
  {
   "cell_type": "code",
   "execution_count": null,
   "id": "f2374197-902f-4e5a-8795-ed8e881f7db4",
   "metadata": {},
   "outputs": [],
   "source": []
  },
  {
   "cell_type": "code",
   "execution_count": null,
   "id": "3085d3f7-e89e-4e6f-9547-84eafac307df",
   "metadata": {},
   "outputs": [],
   "source": []
  },
  {
   "cell_type": "code",
   "execution_count": null,
   "id": "bbbfce5b-09e6-4299-a515-53150e00ebe6",
   "metadata": {},
   "outputs": [],
   "source": [
    " "
   ]
  }
 ],
 "metadata": {
  "kernelspec": {
   "display_name": "Python 3 (ipykernel)",
   "language": "python",
   "name": "python3"
  },
  "language_info": {
   "codemirror_mode": {
    "name": "ipython",
    "version": 3
   },
   "file_extension": ".py",
   "mimetype": "text/x-python",
   "name": "python",
   "nbconvert_exporter": "python",
   "pygments_lexer": "ipython3",
   "version": "3.10.8"
  }
 },
 "nbformat": 4,
 "nbformat_minor": 5
}
