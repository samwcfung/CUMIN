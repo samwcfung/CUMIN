{
 "cells": [
  {
   "cell_type": "code",
   "execution_count": 1,
   "id": "3e892df9-ee1d-4e12-b87f-968434c35ba3",
   "metadata": {},
   "outputs": [],
   "source": [
    "#pip install numpy pandas matplotlib scipy h5py tifffile opencv-python seaborn PyYAML openpyxl xlsxwriter tqdm cupy ijroi"
   ]
  },
  {
   "cell_type": "code",
   "execution_count": 2,
   "id": "b0f135a4-326b-4497-8116-9afd785df109",
   "metadata": {},
   "outputs": [],
   "source": [
    "#pip install scikit-image"
   ]
  },
  {
   "cell_type": "code",
   "execution_count": 3,
   "id": "82a60d48-228c-42d5-a722-1f4657b2f5f7",
   "metadata": {},
   "outputs": [],
   "source": [
    "#pip install read-roi"
   ]
  },
  {
   "cell_type": "code",
   "execution_count": 4,
   "id": "30129bf5-ca56-4146-9fb6-4802c88b89df",
   "metadata": {},
   "outputs": [],
   "source": [
    "#pip install xlsxwriter openpyxl"
   ]
  },
  {
   "cell_type": "code",
   "execution_count": 5,
   "id": "9ea524ba-e63f-466a-bc05-bb38c6dfe346",
   "metadata": {},
   "outputs": [],
   "source": [
    "#pip install caiman"
   ]
  },
  {
   "cell_type": "code",
   "execution_count": 6,
   "id": "1a0d99ca-77bc-4da3-9493-c481d1dc0d34",
   "metadata": {},
   "outputs": [
    {
     "name": "stderr",
     "output_type": "stream",
     "text": [
      "C:\\Users\\Admin\\CAAR Pipeline\\notebooks\\..\\modules\\preprocessing.py:28: UserWarning: CuPy not found, falling back to CPU processing for applicable methods\n",
      "  warnings.warn(\"CuPy not found, falling back to CPU processing for applicable methods\")\n"
     ]
    }
   ],
   "source": [
    "# Cell 1: Import necessary modules\n",
    "import os\n",
    "import sys\n",
    "import yaml\n",
    "from pathlib import Path\n",
    "\n",
    "# Add the parent directory to the path so we can import the pipeline modules\n",
    "sys.path.append('..')\n",
    "\n",
    "# Import the main pipeline function\n",
    "from pipeline import main, parse_arguments, load_config\n"
   ]
  },
  {
   "cell_type": "code",
   "execution_count": 7,
   "id": "15ea0bd9-9a8c-4c6a-a12b-2975c2e038fc",
   "metadata": {},
   "outputs": [],
   "source": [
    "# Cell 2: Set up the parameters\n",
    "class Args:\n",
    "    \"\"\"Class to simulate command line arguments\"\"\"\n",
    "    def __init__(self):\n",
    "        self.input_dir = r\"F:\\Recovered\\Research\\BoninLab\\PainModelingProject\\calcium_imaging_data\\CAAR Testing\\CAAR part2 data\\disinhibition\\New folder (2)\"  # CHANGE THIS\n",
    "        self.output_dir = r\"F:\\Recovered\\Research\\BoninLab\\PainModelingProject\\calcium_imaging_data\\CAAR Testing\\CAAR part9 cnmfpt4\"    # CHANGE THIS\n",
    "        self.config = \"../config.yaml\"\n",
    "        self.mode = \"all\"  # Options: \"all\", \"preprocess\", \"extract\", \"analyze\"\n",
    "        self.max_workers = 4  # Adjust based on your CPU cores\n",
    "        self.disable_advanced = False\n"
   ]
  },
  {
   "cell_type": "code",
   "execution_count": 8,
   "id": "1d9bda78-1f7d-426c-8d6d-291605eda2b3",
   "metadata": {},
   "outputs": [
    {
     "name": "stdout",
     "output_type": "stream",
     "text": [
      "Input directory: F:\\Recovered\\Research\\BoninLab\\PainModelingProject\\calcium_imaging_data\\CAAR Testing\\CAAR part2 data\\disinhibition\\New folder (2)\n",
      "Output directory: F:\\Recovered\\Research\\BoninLab\\PainModelingProject\\calcium_imaging_data\\CAAR Testing\\CAAR part9 cnmfpt4\n",
      "Pipeline mode: all\n",
      "Maximum parallel workers: 4\n",
      "Advanced analysis enabled: True\n",
      "2025-03-06 03:23:31,583 - pipeline - INFO - ================================================================================\n"
     ]
    },
    {
     "name": "stderr",
     "output_type": "stream",
     "text": [
      "INFO:pipeline:================================================================================\n"
     ]
    },
    {
     "name": "stdout",
     "output_type": "stream",
     "text": [
      "2025-03-06 03:23:31,585 - pipeline - INFO - Starting fluorescence pipeline in mode: all\n"
     ]
    },
    {
     "name": "stderr",
     "output_type": "stream",
     "text": [
      "INFO:pipeline:Starting fluorescence pipeline in mode: all\n"
     ]
    },
    {
     "name": "stdout",
     "output_type": "stream",
     "text": [
      "2025-03-06 03:23:31,586 - pipeline - INFO - Input directory: F:\\Recovered\\Research\\BoninLab\\PainModelingProject\\calcium_imaging_data\\CAAR Testing\\CAAR part2 data\\disinhibition\\New folder (2)\n"
     ]
    },
    {
     "name": "stderr",
     "output_type": "stream",
     "text": [
      "INFO:pipeline:Input directory: F:\\Recovered\\Research\\BoninLab\\PainModelingProject\\calcium_imaging_data\\CAAR Testing\\CAAR part2 data\\disinhibition\\New folder (2)\n"
     ]
    },
    {
     "name": "stdout",
     "output_type": "stream",
     "text": [
      "2025-03-06 03:23:31,588 - pipeline - INFO - Output directory: F:\\Recovered\\Research\\BoninLab\\PainModelingProject\\calcium_imaging_data\\CAAR Testing\\CAAR part9 cnmfpt4\n"
     ]
    },
    {
     "name": "stderr",
     "output_type": "stream",
     "text": [
      "INFO:pipeline:Output directory: F:\\Recovered\\Research\\BoninLab\\PainModelingProject\\calcium_imaging_data\\CAAR Testing\\CAAR part9 cnmfpt4\n"
     ]
    },
    {
     "name": "stdout",
     "output_type": "stream",
     "text": [
      "2025-03-06 03:23:31,589 - pipeline - INFO - Configuration file: ../config.yaml\n"
     ]
    },
    {
     "name": "stderr",
     "output_type": "stream",
     "text": [
      "INFO:pipeline:Configuration file: ../config.yaml\n"
     ]
    },
    {
     "name": "stdout",
     "output_type": "stream",
     "text": [
      "2025-03-06 03:23:31,676 - pipeline - INFO - ================================================================================\n"
     ]
    },
    {
     "name": "stderr",
     "output_type": "stream",
     "text": [
      "INFO:pipeline:================================================================================\n"
     ]
    },
    {
     "name": "stdout",
     "output_type": "stream",
     "text": [
      "2025-03-06 03:23:31,679 - pipeline - INFO - Matching .tif and .zip files\n"
     ]
    },
    {
     "name": "stderr",
     "output_type": "stream",
     "text": [
      "INFO:pipeline:Matching .tif and .zip files\n"
     ]
    },
    {
     "name": "stdout",
     "output_type": "stream",
     "text": [
      "2025-03-06 03:23:31,806 - pipeline - INFO - Found 3 .tif files and 3 .zip files\n"
     ]
    },
    {
     "name": "stderr",
     "output_type": "stream",
     "text": [
      "INFO:pipeline:Found 3 .tif files and 3 .zip files\n",
      "DEBUG:pipeline:Matched Disinhib1_7.23.20_contra3_0um_cor -> RoiSet_Disinhib1_7.23.20_contra3_0um_cor\n",
      "DEBUG:pipeline:Matched Disinhib1_7.23.20_contra3_10um_cor -> RoiSet_Disinhib1_7.23.20_contra3_10um_cor\n",
      "DEBUG:pipeline:Matched Disinhib1_7.23.20_contra3_25um_cor -> RoiSet_Disinhib1_7.23.20_contra3_25um_cor\n"
     ]
    },
    {
     "name": "stdout",
     "output_type": "stream",
     "text": [
      "2025-03-06 03:23:31,811 - pipeline - INFO - Successfully matched 3 file pairs\n"
     ]
    },
    {
     "name": "stderr",
     "output_type": "stream",
     "text": [
      "INFO:pipeline:Successfully matched 3 file pairs\n"
     ]
    },
    {
     "name": "stdout",
     "output_type": "stream",
     "text": [
      "2025-03-06 03:23:31,814 - pipeline - INFO - Found 3 matched file pairs\n"
     ]
    },
    {
     "name": "stderr",
     "output_type": "stream",
     "text": [
      "INFO:pipeline:Found 3 matched file pairs\n",
      "Processing slices:   0%|                                                                         | 0/3 [00:00<?, ?it/s]"
     ]
    },
    {
     "name": "stdout",
     "output_type": "stream",
     "text": [
      "2025-03-06 03:28:31,215 - pipeline - INFO - Completed processing Disinhib1_7.23.20_contra3_25um_cor\n"
     ]
    },
    {
     "name": "stderr",
     "output_type": "stream",
     "text": [
      "INFO:pipeline:Completed processing Disinhib1_7.23.20_contra3_25um_cor\n",
      "Processing slices:  33%|█████████████████████▎                                          | 1/3 [04:59<09:58, 299.42s/it]"
     ]
    },
    {
     "name": "stdout",
     "output_type": "stream",
     "text": [
      "2025-03-06 03:28:41,343 - pipeline - INFO - Completed processing Disinhib1_7.23.20_contra3_0um_cor\n"
     ]
    },
    {
     "name": "stderr",
     "output_type": "stream",
     "text": [
      "INFO:pipeline:Completed processing Disinhib1_7.23.20_contra3_0um_cor\n",
      "Processing slices:  67%|██████████████████████████████████████████▋                     | 2/3 [05:09<02:09, 129.20s/it]"
     ]
    },
    {
     "name": "stdout",
     "output_type": "stream",
     "text": [
      "2025-03-06 03:28:51,053 - pipeline - INFO - Completed processing Disinhib1_7.23.20_contra3_10um_cor\n"
     ]
    },
    {
     "name": "stderr",
     "output_type": "stream",
     "text": [
      "INFO:pipeline:Completed processing Disinhib1_7.23.20_contra3_10um_cor\n",
      "Processing slices: 100%|████████████████████████████████████████████████████████████████| 3/3 [05:19<00:00, 106.39s/it]\n"
     ]
    },
    {
     "name": "stdout",
     "output_type": "stream",
     "text": [
      "2025-03-06 03:28:52,848 - pipeline - INFO - Generating mouse-level summaries\n"
     ]
    },
    {
     "name": "stderr",
     "output_type": "stream",
     "text": [
      "INFO:pipeline:Generating mouse-level summaries\n"
     ]
    },
    {
     "name": "stdout",
     "output_type": "stream",
     "text": [
      "2025-03-06 03:28:52,853 - pipeline - INFO - Creating summary for mouse Disinhib1\n"
     ]
    },
    {
     "name": "stderr",
     "output_type": "stream",
     "text": [
      "INFO:pipeline:Creating summary for mouse Disinhib1\n"
     ]
    },
    {
     "name": "stdout",
     "output_type": "stream",
     "text": [
      "2025-03-06 03:28:54,456 - pipeline - INFO - Saved mouse summary to F:\\Recovered\\Research\\BoninLab\\PainModelingProject\\calcium_imaging_data\\CAAR Testing\\CAAR part9 cnmfpt4\\Disinhib1_summary.xlsx\n"
     ]
    },
    {
     "name": "stderr",
     "output_type": "stream",
     "text": [
      "INFO:pipeline:Saved mouse summary to F:\\Recovered\\Research\\BoninLab\\PainModelingProject\\calcium_imaging_data\\CAAR Testing\\CAAR part9 cnmfpt4\\Disinhib1_summary.xlsx\n"
     ]
    },
    {
     "name": "stdout",
     "output_type": "stream",
     "text": [
      "2025-03-06 03:28:54,523 - pipeline - INFO - Pipeline completed in 322.78 seconds\n"
     ]
    },
    {
     "name": "stderr",
     "output_type": "stream",
     "text": [
      "INFO:pipeline:Pipeline completed in 322.78 seconds\n"
     ]
    },
    {
     "name": "stdout",
     "output_type": "stream",
     "text": [
      "2025-03-06 03:28:54,525 - pipeline - INFO - Processed 3 slices:\n"
     ]
    },
    {
     "name": "stderr",
     "output_type": "stream",
     "text": [
      "INFO:pipeline:Processed 3 slices:\n"
     ]
    },
    {
     "name": "stdout",
     "output_type": "stream",
     "text": [
      "2025-03-06 03:28:54,528 - pipeline - INFO -   - Successful: 3\n"
     ]
    },
    {
     "name": "stderr",
     "output_type": "stream",
     "text": [
      "INFO:pipeline:  - Successful: 3\n"
     ]
    },
    {
     "name": "stdout",
     "output_type": "stream",
     "text": [
      "2025-03-06 03:28:54,529 - pipeline - INFO -   - Failed: 0\n"
     ]
    },
    {
     "name": "stderr",
     "output_type": "stream",
     "text": [
      "INFO:pipeline:  - Failed: 0\n"
     ]
    },
    {
     "name": "stdout",
     "output_type": "stream",
     "text": [
      "2025-03-06 03:28:54,531 - pipeline - INFO - Summary saved to F:\\Recovered\\Research\\BoninLab\\PainModelingProject\\calcium_imaging_data\\CAAR Testing\\CAAR part9 cnmfpt4\\pipeline_summary.json\n"
     ]
    },
    {
     "name": "stderr",
     "output_type": "stream",
     "text": [
      "INFO:pipeline:Summary saved to F:\\Recovered\\Research\\BoninLab\\PainModelingProject\\calcium_imaging_data\\CAAR Testing\\CAAR part9 cnmfpt4\\pipeline_summary.json\n"
     ]
    }
   ],
   "source": [
    "# Cell 3: Load configuration and run the pipeline\n",
    "# Create arguments\n",
    "args = Args()\n",
    "\n",
    "# Make sure output directory exists\n",
    "os.makedirs(args.output_dir, exist_ok=True)\n",
    "\n",
    "# Load config\n",
    "config = load_config(args.config, args)\n",
    "\n",
    "# Print summary of what will be processed\n",
    "print(f\"Input directory: {args.input_dir}\")\n",
    "print(f\"Output directory: {args.output_dir}\")\n",
    "print(f\"Pipeline mode: {args.mode}\")\n",
    "print(f\"Maximum parallel workers: {args.max_workers}\")\n",
    "print(f\"Advanced analysis enabled: {config.get('advanced_analysis', {}).get('enabled', False)}\")\n",
    "\n",
    "# Run the pipeline\n",
    "# This modifies the main function slightly to accept our args object directly\n",
    "def run_pipeline(args):\n",
    "    # Store the original sys.argv\n",
    "    original_argv = sys.argv\n",
    "    \n",
    "    # Mock the command line arguments\n",
    "    sys.argv = ['pipeline.py', \n",
    "                '--input_dir', args.input_dir,\n",
    "                '--output_dir', args.output_dir,\n",
    "                '--config', args.config,\n",
    "                '--mode', args.mode,\n",
    "                '--max_workers', str(args.max_workers)]\n",
    "    \n",
    "    if args.disable_advanced:\n",
    "        sys.argv.append('--disable_advanced')\n",
    "    \n",
    "    try:\n",
    "        # Run the main function\n",
    "        main()\n",
    "    finally:\n",
    "        # Restore the original sys.argv\n",
    "        sys.argv = original_argv\n",
    "\n",
    "# Run the pipeline with our arguments\n",
    "run_pipeline(args)"
   ]
  },
  {
   "cell_type": "code",
   "execution_count": 9,
   "id": "b9ebe6d0-d0bc-4071-8696-284146682bbe",
   "metadata": {},
   "outputs": [
    {
     "ename": "FileNotFoundError",
     "evalue": "[Errno 2] Unable to open file (unable to open file: name = 'F:\\Recovered\\Research\\BoninLab\\PainModelingProject\\calcium_imaging_data\\CAAR Testing\\CAAR part9 cnmfpt4\\Mouse123_20220515_CFA_Ipsi1_0um\\Mouse123_20220515_CFA_Ipsi1_0um_traces.h5', errno = 2, error message = 'No such file or directory', flags = 0, o_flags = 0)",
     "output_type": "error",
     "traceback": [
      "\u001b[1;31m---------------------------------------------------------------------------\u001b[0m",
      "\u001b[1;31mFileNotFoundError\u001b[0m                         Traceback (most recent call last)",
      "Cell \u001b[1;32mIn[9], line 10\u001b[0m\n\u001b[0;32m      7\u001b[0m slice_name \u001b[38;5;241m=\u001b[39m \u001b[38;5;124m\"\u001b[39m\u001b[38;5;124mMouse123_20220515_CFA_Ipsi1_0um\u001b[39m\u001b[38;5;124m\"\u001b[39m  \u001b[38;5;66;03m# Change to your actual slice name\u001b[39;00m\n\u001b[0;32m      8\u001b[0m traces_file \u001b[38;5;241m=\u001b[39m os\u001b[38;5;241m.\u001b[39mpath\u001b[38;5;241m.\u001b[39mjoin(args\u001b[38;5;241m.\u001b[39moutput_dir, slice_name, \u001b[38;5;124mf\u001b[39m\u001b[38;5;124m\"\u001b[39m\u001b[38;5;132;01m{\u001b[39;00mslice_name\u001b[38;5;132;01m}\u001b[39;00m\u001b[38;5;124m_traces.h5\u001b[39m\u001b[38;5;124m\"\u001b[39m)\n\u001b[1;32m---> 10\u001b[0m \u001b[38;5;28;01mwith\u001b[39;00m h5py\u001b[38;5;241m.\u001b[39mFile(traces_file, \u001b[38;5;124m'\u001b[39m\u001b[38;5;124mr\u001b[39m\u001b[38;5;124m'\u001b[39m) \u001b[38;5;28;01mas\u001b[39;00m f:\n\u001b[0;32m     11\u001b[0m     traces \u001b[38;5;241m=\u001b[39m f[\u001b[38;5;124m'\u001b[39m\u001b[38;5;124mbg_corrected_traces\u001b[39m\u001b[38;5;124m'\u001b[39m][:]\n\u001b[0;32m     13\u001b[0m \u001b[38;5;66;03m# Plot first 5 ROI traces\u001b[39;00m\n",
      "File \u001b[1;32m~\\anaconda3\\Lib\\site-packages\\h5py\\_hl\\files.py:567\u001b[0m, in \u001b[0;36mFile.__init__\u001b[1;34m(self, name, mode, driver, libver, userblock_size, swmr, rdcc_nslots, rdcc_nbytes, rdcc_w0, track_order, fs_strategy, fs_persist, fs_threshold, fs_page_size, page_buf_size, min_meta_keep, min_raw_keep, locking, alignment_threshold, alignment_interval, meta_block_size, **kwds)\u001b[0m\n\u001b[0;32m    558\u001b[0m     fapl \u001b[38;5;241m=\u001b[39m make_fapl(driver, libver, rdcc_nslots, rdcc_nbytes, rdcc_w0,\n\u001b[0;32m    559\u001b[0m                      locking, page_buf_size, min_meta_keep, min_raw_keep,\n\u001b[0;32m    560\u001b[0m                      alignment_threshold\u001b[38;5;241m=\u001b[39malignment_threshold,\n\u001b[0;32m    561\u001b[0m                      alignment_interval\u001b[38;5;241m=\u001b[39malignment_interval,\n\u001b[0;32m    562\u001b[0m                      meta_block_size\u001b[38;5;241m=\u001b[39mmeta_block_size,\n\u001b[0;32m    563\u001b[0m                      \u001b[38;5;241m*\u001b[39m\u001b[38;5;241m*\u001b[39mkwds)\n\u001b[0;32m    564\u001b[0m     fcpl \u001b[38;5;241m=\u001b[39m make_fcpl(track_order\u001b[38;5;241m=\u001b[39mtrack_order, fs_strategy\u001b[38;5;241m=\u001b[39mfs_strategy,\n\u001b[0;32m    565\u001b[0m                      fs_persist\u001b[38;5;241m=\u001b[39mfs_persist, fs_threshold\u001b[38;5;241m=\u001b[39mfs_threshold,\n\u001b[0;32m    566\u001b[0m                      fs_page_size\u001b[38;5;241m=\u001b[39mfs_page_size)\n\u001b[1;32m--> 567\u001b[0m     fid \u001b[38;5;241m=\u001b[39m make_fid(name, mode, userblock_size, fapl, fcpl, swmr\u001b[38;5;241m=\u001b[39mswmr)\n\u001b[0;32m    569\u001b[0m \u001b[38;5;28;01mif\u001b[39;00m \u001b[38;5;28misinstance\u001b[39m(libver, \u001b[38;5;28mtuple\u001b[39m):\n\u001b[0;32m    570\u001b[0m     \u001b[38;5;28mself\u001b[39m\u001b[38;5;241m.\u001b[39m_libver \u001b[38;5;241m=\u001b[39m libver\n",
      "File \u001b[1;32m~\\anaconda3\\Lib\\site-packages\\h5py\\_hl\\files.py:231\u001b[0m, in \u001b[0;36mmake_fid\u001b[1;34m(name, mode, userblock_size, fapl, fcpl, swmr)\u001b[0m\n\u001b[0;32m    229\u001b[0m     \u001b[38;5;28;01mif\u001b[39;00m swmr \u001b[38;5;129;01mand\u001b[39;00m swmr_support:\n\u001b[0;32m    230\u001b[0m         flags \u001b[38;5;241m|\u001b[39m\u001b[38;5;241m=\u001b[39m h5f\u001b[38;5;241m.\u001b[39mACC_SWMR_READ\n\u001b[1;32m--> 231\u001b[0m     fid \u001b[38;5;241m=\u001b[39m h5f\u001b[38;5;241m.\u001b[39mopen(name, flags, fapl\u001b[38;5;241m=\u001b[39mfapl)\n\u001b[0;32m    232\u001b[0m \u001b[38;5;28;01melif\u001b[39;00m mode \u001b[38;5;241m==\u001b[39m \u001b[38;5;124m'\u001b[39m\u001b[38;5;124mr+\u001b[39m\u001b[38;5;124m'\u001b[39m:\n\u001b[0;32m    233\u001b[0m     fid \u001b[38;5;241m=\u001b[39m h5f\u001b[38;5;241m.\u001b[39mopen(name, h5f\u001b[38;5;241m.\u001b[39mACC_RDWR, fapl\u001b[38;5;241m=\u001b[39mfapl)\n",
      "File \u001b[1;32mh5py\\_objects.pyx:54\u001b[0m, in \u001b[0;36mh5py._objects.with_phil.wrapper\u001b[1;34m()\u001b[0m\n",
      "File \u001b[1;32mh5py\\_objects.pyx:55\u001b[0m, in \u001b[0;36mh5py._objects.with_phil.wrapper\u001b[1;34m()\u001b[0m\n",
      "File \u001b[1;32mh5py\\h5f.pyx:106\u001b[0m, in \u001b[0;36mh5py.h5f.open\u001b[1;34m()\u001b[0m\n",
      "\u001b[1;31mFileNotFoundError\u001b[0m: [Errno 2] Unable to open file (unable to open file: name = 'F:\\Recovered\\Research\\BoninLab\\PainModelingProject\\calcium_imaging_data\\CAAR Testing\\CAAR part9 cnmfpt4\\Mouse123_20220515_CFA_Ipsi1_0um\\Mouse123_20220515_CFA_Ipsi1_0um_traces.h5', errno = 2, error message = 'No such file or directory', flags = 0, o_flags = 0)"
     ]
    }
   ],
   "source": [
    "# Load and visualize results\n",
    "import h5py\n",
    "import matplotlib.pyplot as plt\n",
    "import pandas as pd\n",
    "\n",
    "# Example: Load and visualize traces from a slice\n",
    "slice_name = \"Mouse123_20220515_CFA_Ipsi1_0um\"  # Change to your actual slice name\n",
    "traces_file = os.path.join(args.output_dir, slice_name, f\"{slice_name}_traces.h5\")\n",
    "\n",
    "with h5py.File(traces_file, 'r') as f:\n",
    "    traces = f['bg_corrected_traces'][:]\n",
    "    \n",
    "# Plot first 5 ROI traces\n",
    "plt.figure(figsize=(14, 10))\n",
    "for i in range(min(5, traces.shape[0])):\n",
    "    plt.plot(traces[i], label=f\"ROI {i+1}\")\n",
    "plt.legend()\n",
    "plt.title(\"Sample ROI Fluorescence Traces\")\n",
    "plt.xlabel(\"Frame\")\n",
    "plt.ylabel(\"Fluorescence (corrected)\")\n",
    "plt.grid(True, alpha=0.3)\n",
    "plt.show()\n",
    "\n",
    "# Example: Load metrics and examine statistics\n",
    "metrics_file = os.path.join(args.output_dir, slice_name, f\"{slice_name}_metrics.xlsx\")\n",
    "metrics_df = pd.read_excel(metrics_file)\n",
    "\n",
    "# Show summary statistics\n",
    "metrics_df.describe()"
   ]
  },
  {
   "cell_type": "code",
   "execution_count": 11,
   "id": "ba1ddf05-3175-485c-b29c-a75d845c9f09",
   "metadata": {},
   "outputs": [
    {
     "name": "stdout",
     "output_type": "stream",
     "text": [
      "C:\\Users\\Admin\\anaconda3\\python.exe\n",
      "CaImAn is installed! Version:\n"
     ]
    }
   ],
   "source": [
    "# Run this in the same Python environment as your pipeline\n",
    "import sys\n",
    "print(sys.executable)  # Shows which Python is running\n",
    "\n",
    "# Try importing CaImAn\n",
    "try:\n",
    "    import caiman\n",
    "    print(f\"CaImAn is installed! Version:\")\n",
    "except ImportError as e:\n",
    "    print(f\"Import error: {e}\")"
   ]
  },
  {
   "cell_type": "code",
   "execution_count": 12,
   "id": "4ef1f2ab-a91c-4812-b648-c683261ecd61",
   "metadata": {},
   "outputs": [
    {
     "name": "stdout",
     "output_type": "stream",
     "text": [
      "✓ numpy is installed\n",
      "✓ scipy is installed\n",
      "✓ matplotlib is installed\n",
      "✗ scikit-learn is NOT installed\n",
      "✗ scikit-image is NOT installed\n",
      "✓ h5py is installed\n",
      "✗ opencv-python is NOT installed\n",
      "✓ tifffile is installed\n",
      "✓ tqdm is installed\n"
     ]
    }
   ],
   "source": [
    "# Run this to see if any key dependencies are missing\n",
    "modules_to_check = ['numpy', 'scipy', 'matplotlib', 'scikit-learn', 'scikit-image', \n",
    "                   'h5py', 'opencv-python', 'tifffile', 'tqdm']\n",
    "\n",
    "for module in modules_to_check:\n",
    "    try:\n",
    "        __import__(module)\n",
    "        print(f\"✓ {module} is installed\")\n",
    "    except ImportError:\n",
    "        print(f\"✗ {module} is NOT installed\")"
   ]
  },
  {
   "cell_type": "code",
   "execution_count": 13,
   "id": "9e9dc1f5-bd73-4010-ae35-8413e7d83cca",
   "metadata": {},
   "outputs": [
    {
     "name": "stdout",
     "output_type": "stream",
     "text": [
      "Requirement already satisfied: scikit-learn in c:\\users\\admin\\anaconda3\\lib\\site-packages (1.2.2)Note: you may need to restart the kernel to use updated packages.\n",
      "\n",
      "Requirement already satisfied: scikit-image in c:\\users\\admin\\anaconda3\\lib\\site-packages (0.20.0)\n",
      "Requirement already satisfied: opencv-python in c:\\users\\admin\\anaconda3\\lib\\site-packages (4.7.0)\n",
      "Requirement already satisfied: numpy>=1.17.3 in c:\\users\\admin\\anaconda3\\lib\\site-packages (from scikit-learn) (1.26.4)\n",
      "Requirement already satisfied: scipy>=1.3.2 in c:\\users\\admin\\anaconda3\\lib\\site-packages (from scikit-learn) (1.11.4)\n",
      "Requirement already satisfied: joblib>=1.1.1 in c:\\users\\admin\\anaconda3\\lib\\site-packages (from scikit-learn) (1.2.0)\n",
      "Requirement already satisfied: threadpoolctl>=2.0.0 in c:\\users\\admin\\anaconda3\\lib\\site-packages (from scikit-learn) (2.2.0)\n",
      "Requirement already satisfied: networkx>=2.8 in c:\\users\\admin\\anaconda3\\lib\\site-packages (from scikit-image) (3.1)\n",
      "Requirement already satisfied: pillow>=9.0.1 in c:\\users\\admin\\anaconda3\\lib\\site-packages (from scikit-image) (10.0.1)\n",
      "Requirement already satisfied: imageio>=2.4.1 in c:\\users\\admin\\anaconda3\\lib\\site-packages (from scikit-image) (2.31.4)\n",
      "Requirement already satisfied: tifffile>=2019.7.26 in c:\\users\\admin\\anaconda3\\lib\\site-packages (from scikit-image) (2023.4.12)\n",
      "Requirement already satisfied: PyWavelets>=1.1.1 in c:\\users\\admin\\anaconda3\\lib\\site-packages (from scikit-image) (1.5.0)\n",
      "Requirement already satisfied: packaging>=20.0 in c:\\users\\admin\\anaconda3\\lib\\site-packages (from scikit-image) (23.1)\n",
      "Requirement already satisfied: lazy_loader>=0.1 in c:\\users\\admin\\anaconda3\\lib\\site-packages (from scikit-image) (0.3)\n"
     ]
    }
   ],
   "source": [
    "pip install scikit-learn scikit-image opencv-python"
   ]
  }
 ],
 "metadata": {
  "kernelspec": {
   "display_name": "Python 3 (ipykernel)",
   "language": "python",
   "name": "python3"
  },
  "language_info": {
   "codemirror_mode": {
    "name": "ipython",
    "version": 3
   },
   "file_extension": ".py",
   "mimetype": "text/x-python",
   "name": "python",
   "nbconvert_exporter": "python",
   "pygments_lexer": "ipython3",
   "version": "3.11.5"
  }
 },
 "nbformat": 4,
 "nbformat_minor": 5
}
